{
 "cells": [
  {
   "cell_type": "markdown",
   "metadata": {},
   "source": [
    "# lab_session_4"
   ]
  },
  {
   "cell_type": "markdown",
   "metadata": {},
   "source": [
    "# Case 9"
   ]
  },
  {
   "cell_type": "code",
   "execution_count": 1,
   "metadata": {},
   "outputs": [
    {
     "data": {
      "text/plain": [
       "This pandapower network includes the following parameter tables:\n",
       "   - bus (9 elements)\n",
       "   - load (3 elements)\n",
       "   - gen (2 elements)\n",
       "   - ext_grid (1 element)\n",
       "   - line (9 elements)\n",
       "   - poly_cost (3 elements)\n",
       "   - bus_geodata (9 elements)"
      ]
     },
     "execution_count": 1,
     "metadata": {},
     "output_type": "execute_result"
    }
   ],
   "source": [
    "import pandapower as pp\n",
    "import pandas as pn\n",
    "import numpy as np\n",
    "import pandapower.networks\n",
    "import pandapower.plotting as plot\n",
    "\n",
    "net = pandapower.networks.case9()\n",
    "net"
   ]
  },
  {
   "cell_type": "code",
   "execution_count": 2,
   "metadata": {},
   "outputs": [
    {
     "data": {
      "text/plain": [
       "name                         None\n",
       "std_type                     None\n",
       "from_bus                        5\n",
       "to_bus                          6\n",
       "length_km                     1.0\n",
       "r_ohm_per_km            14.163975\n",
       "x_ohm_per_km             119.9772\n",
       "c_nf_per_km            465.775861\n",
       "g_us_per_km                   0.0\n",
       "max_i_ka                 0.251022\n",
       "df                            1.0\n",
       "parallel                        1\n",
       "type                           ol\n",
       "in_service                   True\n",
       "max_loading_percent         100.0\n",
       "Name: 4, dtype: object"
      ]
     },
     "execution_count": 2,
     "metadata": {},
     "output_type": "execute_result"
    }
   ],
   "source": [
    "net.line.loc[4]"
   ]
  },
  {
   "cell_type": "code",
   "execution_count": 3,
   "metadata": {},
   "outputs": [
    {
     "data": {
      "text/html": [
       "<div>\n",
       "<style scoped>\n",
       "    .dataframe tbody tr th:only-of-type {\n",
       "        vertical-align: middle;\n",
       "    }\n",
       "\n",
       "    .dataframe tbody tr th {\n",
       "        vertical-align: top;\n",
       "    }\n",
       "\n",
       "    .dataframe thead th {\n",
       "        text-align: right;\n",
       "    }\n",
       "</style>\n",
       "<table border=\"1\" class=\"dataframe\">\n",
       "  <thead>\n",
       "    <tr style=\"text-align: right;\">\n",
       "      <th></th>\n",
       "      <th>length_km</th>\n",
       "      <th>r_ohm_per_km</th>\n",
       "      <th>x_ohm_per_km</th>\n",
       "      <th>c_nf_per_km</th>\n",
       "    </tr>\n",
       "  </thead>\n",
       "  <tbody>\n",
       "    <tr>\n",
       "      <th>3</th>\n",
       "      <td>1.0</td>\n",
       "      <td>0.000000</td>\n",
       "      <td>69.74865</td>\n",
       "      <td>0.000000</td>\n",
       "    </tr>\n",
       "    <tr>\n",
       "      <th>4</th>\n",
       "      <td>1.0</td>\n",
       "      <td>14.163975</td>\n",
       "      <td>119.97720</td>\n",
       "      <td>465.775861</td>\n",
       "    </tr>\n",
       "  </tbody>\n",
       "</table>\n",
       "</div>"
      ],
      "text/plain": [
       "   length_km  r_ohm_per_km  x_ohm_per_km  c_nf_per_km\n",
       "3        1.0      0.000000      69.74865     0.000000\n",
       "4        1.0     14.163975     119.97720   465.775861"
      ]
     },
     "execution_count": 3,
     "metadata": {},
     "output_type": "execute_result"
    }
   ],
   "source": [
    "net.line.loc[[3,4], [\"length_km\", \"r_ohm_per_km\", \"x_ohm_per_km\", \"c_nf_per_km\"]]"
   ]
  },
  {
   "cell_type": "code",
   "execution_count": 4,
   "metadata": {},
   "outputs": [],
   "source": [
    "pp.runpp(net, max_iteration=100, numba=False)"
   ]
  },
  {
   "cell_type": "code",
   "execution_count": 5,
   "metadata": {},
   "outputs": [
    {
     "data": {
      "text/html": [
       "<div>\n",
       "<style scoped>\n",
       "    .dataframe tbody tr th:only-of-type {\n",
       "        vertical-align: middle;\n",
       "    }\n",
       "\n",
       "    .dataframe tbody tr th {\n",
       "        vertical-align: top;\n",
       "    }\n",
       "\n",
       "    .dataframe thead th {\n",
       "        text-align: right;\n",
       "    }\n",
       "</style>\n",
       "<table border=\"1\" class=\"dataframe\">\n",
       "  <thead>\n",
       "    <tr style=\"text-align: right;\">\n",
       "      <th></th>\n",
       "      <th>vm_pu</th>\n",
       "      <th>va_degree</th>\n",
       "      <th>p_mw</th>\n",
       "      <th>q_mvar</th>\n",
       "    </tr>\n",
       "  </thead>\n",
       "  <tbody>\n",
       "    <tr>\n",
       "      <th>0</th>\n",
       "      <td>1.000000</td>\n",
       "      <td>0.000000</td>\n",
       "      <td>-71.954702</td>\n",
       "      <td>-24.068958</td>\n",
       "    </tr>\n",
       "    <tr>\n",
       "      <th>1</th>\n",
       "      <td>1.000000</td>\n",
       "      <td>9.668741</td>\n",
       "      <td>-163.000000</td>\n",
       "      <td>-14.460120</td>\n",
       "    </tr>\n",
       "    <tr>\n",
       "      <th>2</th>\n",
       "      <td>1.000000</td>\n",
       "      <td>4.771073</td>\n",
       "      <td>-85.000000</td>\n",
       "      <td>3.649026</td>\n",
       "    </tr>\n",
       "    <tr>\n",
       "      <th>3</th>\n",
       "      <td>0.987007</td>\n",
       "      <td>-2.406644</td>\n",
       "      <td>0.000000</td>\n",
       "      <td>0.000000</td>\n",
       "    </tr>\n",
       "    <tr>\n",
       "      <th>4</th>\n",
       "      <td>0.975472</td>\n",
       "      <td>-4.017264</td>\n",
       "      <td>90.000000</td>\n",
       "      <td>30.000000</td>\n",
       "    </tr>\n",
       "    <tr>\n",
       "      <th>5</th>\n",
       "      <td>1.003375</td>\n",
       "      <td>1.925602</td>\n",
       "      <td>0.000000</td>\n",
       "      <td>0.000000</td>\n",
       "    </tr>\n",
       "    <tr>\n",
       "      <th>6</th>\n",
       "      <td>0.985645</td>\n",
       "      <td>0.621545</td>\n",
       "      <td>100.000000</td>\n",
       "      <td>35.000000</td>\n",
       "    </tr>\n",
       "    <tr>\n",
       "      <th>7</th>\n",
       "      <td>0.996185</td>\n",
       "      <td>3.799120</td>\n",
       "      <td>0.000000</td>\n",
       "      <td>0.000000</td>\n",
       "    </tr>\n",
       "    <tr>\n",
       "      <th>8</th>\n",
       "      <td>0.957621</td>\n",
       "      <td>-4.349934</td>\n",
       "      <td>125.000000</td>\n",
       "      <td>50.000000</td>\n",
       "    </tr>\n",
       "  </tbody>\n",
       "</table>\n",
       "</div>"
      ],
      "text/plain": [
       "      vm_pu  va_degree        p_mw     q_mvar\n",
       "0  1.000000   0.000000  -71.954702 -24.068958\n",
       "1  1.000000   9.668741 -163.000000 -14.460120\n",
       "2  1.000000   4.771073  -85.000000   3.649026\n",
       "3  0.987007  -2.406644    0.000000   0.000000\n",
       "4  0.975472  -4.017264   90.000000  30.000000\n",
       "5  1.003375   1.925602    0.000000   0.000000\n",
       "6  0.985645   0.621545  100.000000  35.000000\n",
       "7  0.996185   3.799120    0.000000   0.000000\n",
       "8  0.957621  -4.349934  125.000000  50.000000"
      ]
     },
     "execution_count": 5,
     "metadata": {},
     "output_type": "execute_result"
    }
   ],
   "source": [
    "net.res_bus"
   ]
  },
  {
   "cell_type": "code",
   "execution_count": 6,
   "metadata": {},
   "outputs": [
    {
     "name": "stdout",
     "output_type": "stream",
     "text": [
      "Elapsed time: 25.7215 ms\n"
     ]
    }
   ],
   "source": [
    "import time\n",
    "start_time = time.time()\n",
    "pp.runpp(net,numba=False)\n",
    "print(\"Elapsed time: {:2.4f} ms\".format(1000*(time.time() - start_time)))"
   ]
  },
  {
   "cell_type": "code",
   "execution_count": 30,
   "metadata": {},
   "outputs": [
    {
     "data": {
      "text/plain": [
       "<AxesSubplot: >"
      ]
     },
     "execution_count": 30,
     "metadata": {},
     "output_type": "execute_result"
    },
    {
     "data": {
      "image/png": "[encoded data removed]",
      "text/plain": [
       "<Figure size 800x600 with 2 Axes>"
      ]
     },
     "metadata": {},
     "output_type": "display_data"
    }
   ],
   "source": [
    "cmap_list=[(20, \"green\"), (50, \"yellow\"), (60, \"red\")]\n",
    "cmap, norm = plot.cmap_continuous(cmap_list)\n",
    "plot.draw_collections([lc], figsize=(8,6))"
   ]
  },
  {
   "cell_type": "code",
   "execution_count": 34,
   "metadata": {},
   "outputs": [
    {
     "data": {
      "text/plain": [
       "<AxesSubplot: >"
      ]
     },
     "execution_count": 34,
     "metadata": {},
     "output_type": "execute_result"
    },
    {
     "data": {
      "image/png": "[encoded data removed]",
      "text/plain": [
       "<Figure size 800x600 with 3 Axes>"
      ]
     },
     "metadata": {},
     "output_type": "display_data"
    }
   ],
   "source": [
    "cmap_list=[(0.95, \"blue\"), (1.0, \"green\"), (1.001, \"red\")]\n",
    "cmap, norm = plot.cmap_continuous(cmap_list)\n",
    "bc = plot.create_bus_collection(net, net.bus.index, size=0.05, zorder=2, cmap=cmap, norm=norm)\n",
    "plot.draw_collections([lc, bc], figsize=(8,6))"
   ]
  },
  {
   "cell_type": "code",
   "execution_count": 47,
   "metadata": {},
   "outputs": [
    {
     "name": "stdout",
     "output_type": "stream",
     "text": [
      "Elapsed time: 32.0001 ms\n"
     ]
    }
   ],
   "source": [
    "pp.runpp(net, numba=False) #Newton Rapson\n",
    "import time\n",
    "start_time = time.time()\n",
    "pp.runpp(net,numba=False)\n",
    "print(\"Elapsed time: {:2.4f} ms\".format(1000*(time.time() - start_time)))"
   ]
  },
  {
   "cell_type": "code",
   "execution_count": 48,
   "metadata": {},
   "outputs": [
    {
     "name": "stdout",
     "output_type": "stream",
     "text": [
      "Elapsed time: 16.0549 ms\n"
     ]
    }
   ],
   "source": [
    "pp.runpp(net, 'gs', numba=False) #Gauss-Siedel\n",
    "import time\n",
    "start_time = time.time()\n",
    "pp.runpp(net,numba=False)\n",
    "print(\"Elapsed time: {:2.4f} ms\".format(1000*(time.time() - start_time)))"
   ]
  },
  {
   "cell_type": "code",
   "execution_count": 52,
   "metadata": {},
   "outputs": [
    {
     "name": "stdout",
     "output_type": "stream",
     "text": [
      "Elapsed time: 32.2599 ms\n"
     ]
    }
   ],
   "source": [
    "pp.runpp(net, 'fdbx', numba=False) #fast coupled\n",
    "import time\n",
    "start_time = time.time()\n",
    "pp.runpp(net,numba=False)\n",
    "print(\"Elapsed time: {:2.4f} ms\".format(1000*(time.time() - start_time)))"
   ]
  },
  {
   "cell_type": "code",
   "execution_count": 57,
   "metadata": {},
   "outputs": [
    {
     "name": "stdout",
     "output_type": "stream",
     "text": [
      "Elapsed time: 25.9929 ms\n"
     ]
    }
   ],
   "source": [
    "pp.runpp(net, init='dc', numba=False) #DC\n",
    "import time\n",
    "start_time = time.time()\n",
    "pp.runpp(net,numba=False)\n",
    "print(\"Elapsed time: {:2.4f} ms\".format(1000*(time.time() - start_time)))"
   ]
  },
  {
   "cell_type": "markdown",
   "metadata": {},
   "source": [
    "# Case IEEE30"
   ]
  },
  {
   "cell_type": "code",
   "execution_count": 75,
   "metadata": {},
   "outputs": [],
   "source": [
    "net = pandapower.networks.case_ieee30()"
   ]
  },
  {
   "cell_type": "code",
   "execution_count": 76,
   "metadata": {},
   "outputs": [
    {
     "name": "stdout",
     "output_type": "stream",
     "text": [
      "Elapsed time: 23.4730 ms\n"
     ]
    }
   ],
   "source": [
    "pp.runpp(net, numba=False) #Newton Rapson\n",
    "import time\n",
    "start_time = time.time()\n",
    "pp.runpp(net,numba=False)\n",
    "print(\"Elapsed time: {:2.4f} ms\".format(1000*(time.time() - start_time)))"
   ]
  },
  {
   "cell_type": "code",
   "execution_count": 61,
   "metadata": {},
   "outputs": [
    {
     "name": "stdout",
     "output_type": "stream",
     "text": [
      "Elapsed time: 21.5950 ms\n"
     ]
    }
   ],
   "source": [
    "\n",
    "pp.runpp(net, init='dc', numba=False) #Gauss-Siedel\n",
    "import time\n",
    "start_time = time.time()\n",
    "pp.runpp(net,numba=False)\n",
    "print(\"Elapsed time: {:2.4f} ms\".format(1000*(time.time() - start_time)))"
   ]
  },
  {
   "cell_type": "code",
   "execution_count": 62,
   "metadata": {},
   "outputs": [
    {
     "name": "stdout",
     "output_type": "stream",
     "text": [
      "Elapsed time: 20.1323 ms\n"
     ]
    }
   ],
   "source": [
    "pp.runpp(net, 'fdbx', numba=False) #fast coupled\n",
    "import time\n",
    "start_time = time.time()\n",
    "pp.runpp(net,numba=False)\n",
    "print(\"Elapsed time: {:2.4f} ms\".format(1000*(time.time() - start_time)))"
   ]
  },
  {
   "cell_type": "code",
   "execution_count": 63,
   "metadata": {},
   "outputs": [
    {
     "name": "stdout",
     "output_type": "stream",
     "text": [
      "Elapsed time: 33.9870 ms\n"
     ]
    }
   ],
   "source": [
    "pp.runpp(net, init='dc', numba=False) #DC\n",
    "import time\n",
    "start_time = time.time()\n",
    "pp.runpp(net,numba=False)\n",
    "print(\"Elapsed time: {:2.4f} ms\".format(1000*(time.time() - start_time)))"
   ]
  },
  {
   "cell_type": "markdown",
   "metadata": {},
   "source": [
    "# Case 118"
   ]
  },
  {
   "cell_type": "code",
   "execution_count": 77,
   "metadata": {},
   "outputs": [],
   "source": [
    "net = pandapower.networks.case118()"
   ]
  },
  {
   "cell_type": "code",
   "execution_count": 71,
   "metadata": {},
   "outputs": [
    {
     "name": "stdout",
     "output_type": "stream",
     "text": [
      "Elapsed time: 39.0072 ms\n"
     ]
    }
   ],
   "source": [
    "pp.runpp(net, numba=False) #Newton Rapson\n",
    "import time\n",
    "start_time = time.time()\n",
    "pp.runpp(net,numba=False)\n",
    "print(\"Elapsed time: {:2.4f} ms\".format(1000*(time.time() - start_time)))"
   ]
  },
  {
   "cell_type": "code",
   "execution_count": 78,
   "metadata": {},
   "outputs": [
    {
     "name": "stdout",
     "output_type": "stream",
     "text": [
      "Elapsed time: 25.4152 ms\n"
     ]
    }
   ],
   "source": [
    "pp.runpp(net, init='dc', numba=False) #Gauss-Siedel\n",
    "import time\n",
    "start_time = time.time()\n",
    "pp.runpp(net,numba=False)\n",
    "print(\"Elapsed time: {:2.4f} ms\".format(1000*(time.time() - start_time)))"
   ]
  },
  {
   "cell_type": "code",
   "execution_count": null,
   "metadata": {},
   "outputs": [],
   "source": []
  },
  {
   "cell_type": "markdown",
   "metadata": {},
   "source": [
    "# Case 300\n"
   ]
  },
  {
   "cell_type": "code",
   "execution_count": 65,
   "metadata": {},
   "outputs": [],
   "source": [
    "net = pandapower.networks.case300()"
   ]
  },
  {
   "cell_type": "code",
   "execution_count": 66,
   "metadata": {},
   "outputs": [
    {
     "name": "stdout",
     "output_type": "stream",
     "text": [
      "Elapsed time: 31.7349 ms\n"
     ]
    }
   ],
   "source": [
    "pp.runpp(net, numba=False) #Newton Rapson\n",
    "import time\n",
    "start_time = time.time()\n",
    "pp.runpp(net,numba=False)\n",
    "print(\"Elapsed time: {:2.4f} ms\".format(1000*(time.time() - start_time)))"
   ]
  },
  {
   "cell_type": "code",
   "execution_count": 67,
   "metadata": {},
   "outputs": [
    {
     "name": "stdout",
     "output_type": "stream",
     "text": [
      "Elapsed time: 44.0223 ms\n"
     ]
    }
   ],
   "source": [
    "pp.runpp(net, 'fdbx', numba=False) #fast coupled\n",
    "import time\n",
    "start_time = time.time()\n",
    "pp.runpp(net,numba=False)\n",
    "print(\"Elapsed time: {:2.4f} ms\".format(1000*(time.time() - start_time)))"
   ]
  },
  {
   "cell_type": "code",
   "execution_count": 68,
   "metadata": {},
   "outputs": [
    {
     "name": "stdout",
     "output_type": "stream",
     "text": [
      "Elapsed time: 36.9937 ms\n"
     ]
    }
   ],
   "source": [
    "pp.runpp(net, init='dc', numba=False) #DC\n",
    "import time\n",
    "start_time = time.time()\n",
    "pp.runpp(net,numba=False)\n",
    "print(\"Elapsed time: {:2.4f} ms\".format(1000*(time.time() - start_time)))"
   ]
  },
  {
   "cell_type": "markdown",
   "metadata": {},
   "source": [
    "# Case 3120sp"
   ]
  },
  {
   "cell_type": "code",
   "execution_count": 79,
   "metadata": {},
   "outputs": [],
   "source": [
    "net = pandapower.networks.case3120sp()"
   ]
  },
  {
   "cell_type": "code",
   "execution_count": 80,
   "metadata": {},
   "outputs": [
    {
     "name": "stdout",
     "output_type": "stream",
     "text": [
      "Elapsed time: 154.7985 ms\n"
     ]
    }
   ],
   "source": [
    "pp.runpp(net, numba=False) #Newton Rapson\n",
    "import time\n",
    "start_time = time.time()\n",
    "pp.runpp(net,numba=False)\n",
    "print(\"Elapsed time: {:2.4f} ms\".format(1000*(time.time() - start_time)))"
   ]
  },
  {
   "cell_type": "code",
   "execution_count": 81,
   "metadata": {},
   "outputs": [
    {
     "name": "stdout",
     "output_type": "stream",
     "text": [
      "Elapsed time: 156.5723 ms\n"
     ]
    }
   ],
   "source": [
    "pp.runpp(net, 'fdbx', numba=False) #fast coupled\n",
    "import time\n",
    "start_time = time.time()\n",
    "pp.runpp(net,numba=False)\n",
    "print(\"Elapsed time: {:2.4f} ms\".format(1000*(time.time() - start_time)))"
   ]
  },
  {
   "cell_type": "code",
   "execution_count": 82,
   "metadata": {},
   "outputs": [
    {
     "name": "stdout",
     "output_type": "stream",
     "text": [
      "Elapsed time: 142.7588 ms\n"
     ]
    }
   ],
   "source": [
    "pp.runpp(net, init='dc', numba=False) #DC\n",
    "import time\n",
    "start_time = time.time()\n",
    "pp.runpp(net,numba=False)\n",
    "print(\"Elapsed time: {:2.4f} ms\".format(1000*(time.time() - start_time)))"
   ]
  }
 ],
 "metadata": {
  "kernelspec": {
   "display_name": "Python 3.10.8 64-bit",
   "language": "python",
   "name": "python3"
  },
  "language_info": {
   "codemirror_mode": {
    "name": "ipython",
    "version": 3
   },
   "file_extension": ".py",
   "mimetype": "text/x-python",
   "name": "python",
   "nbconvert_exporter": "python",
   "pygments_lexer": "ipython3",
   "version": "3.10.8"
  },
  "orig_nbformat": 4,
  "vscode": {
   "interpreter": {
    "hash": "26de051ba29f2982a8de78e945f0abaf191376122a1563185a90213a26c5da77"
   }
  }
 },
 "nbformat": 4,
 "nbformat_minor": 2
}
