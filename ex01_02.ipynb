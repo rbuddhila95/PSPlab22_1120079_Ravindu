{
 "cells": [
  {
   "cell_type": "markdown",
   "metadata": {},
   "source": [
    "Exercise 1.2"
   ]
  },
  {
   "cell_type": "code",
   "execution_count": 16,
   "metadata": {},
   "outputs": [
    {
     "name": "stdout",
     "output_type": "stream",
     "text": [
      "2777981.75176405\n",
      "2218545.77071812\n",
      "1806916.61657450\n",
      "1562581.85158768\n",
      "1359357.09081067\n",
      "1217615.75886040\n",
      "1130967.46728704\n",
      "1092964.60097782\n",
      "1081460.24623296\n",
      "1095032.81768745\n",
      "1149296.43302993\n",
      "1234249.93753123\n",
      "1407229.15414362\n",
      "1601491.93539995\n"
     ]
    }
   ],
   "source": [
    "from sympy import *\n",
    "spResistivity = 2.86*10**(-2) #convert to mm^2/m\n",
    "kA = 240\n",
    "kV = 2800\n",
    "k = 0.1\n",
    "alpha = 10\n",
    "hr = 3000\n",
    "Sr = 10**4/0.8\n",
    "Io = 1000 #assume invariable investment cost is equal to 1000 EUR\n",
    "A = [10,16,25,35,50,70,95,120,150,185,240,300,400,500]\n",
    "V = symbols(\"V\")\n",
    "\n",
    "for a in A:\n",
    "    dCostbydA = alpha*kV - 2*k*hr*(spResistivity/a)*(Sr**2/V**2)\n",
    "    v = solve(Eq(dCostbydA,0))[1]\n",
    "\n",
    "    AnCost = alpha*(Io+kV*v+kA*a) + k*hr*(spResistivity/a)*(Sr**2/v**2)\n",
    "    print (AnCost)\n"
   ]
  },
  {
   "cell_type": "code",
   "execution_count": 7,
   "metadata": {},
   "outputs": [
    {
     "data": {
      "text/plain": [
       "[-1, 1]"
      ]
     },
     "execution_count": 7,
     "metadata": {},
     "output_type": "execute_result"
    }
   ],
   "source": [
    "from sympy import *\n",
    "x,y = symbols(\"x y\")\n",
    "solve(Eq(x**2-1,0))\n"
   ]
  }
 ],
 "metadata": {
  "kernelspec": {
   "display_name": "Python 3.9.13 ('base')",
   "language": "python",
   "name": "python3"
  },
  "language_info": {
   "codemirror_mode": {
    "name": "ipython",
    "version": 3
   },
   "file_extension": ".py",
   "mimetype": "text/x-python",
   "name": "python",
   "nbconvert_exporter": "python",
   "pygments_lexer": "ipython3",
   "version": "3.9.13"
  },
  "orig_nbformat": 4,
  "vscode": {
   "interpreter": {
    "hash": "8d63a1158c86434e1275708ae30ff2afc47482b120c0cf0806717c600d2c7238"
   }
  }
 },
 "nbformat": 4,
 "nbformat_minor": 2
}
