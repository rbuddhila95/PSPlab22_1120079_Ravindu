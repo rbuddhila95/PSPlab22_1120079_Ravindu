{
 "cells": [
  {
   "cell_type": "markdown",
   "metadata": {},
   "source": [
    "Exercise 1.2"
   ]
  },
  {
   "cell_type": "code",
   "execution_count": 2,
   "metadata": {},
   "outputs": [
    {
     "name": "stdout",
     "output_type": "stream",
     "text": [
      "Cross section  10  mm^2, = Voltage =  21.2353664286129 kV, Annual Cost =  925885.390001741 EUR\n",
      "Cross section  16  mm^2, = Voltage =  18.1559829058969 kV, Annual Cost =  810951.282047671 EUR\n",
      "Cross section  25  mm^2, = Voltage =  15.6463517616361 kV, Annual Cost =  727146.773988716 EUR\n",
      "Cross section  35  mm^2, = Voltage =  13.9863291510909 kV, Annual Cost =  681425.824345818 EUR\n",
      "Cross section  50  mm^2, = Voltage =  12.4185176229428 kV, Annual Cost =  651577.740163598 EUR\n",
      "Cross section  70  mm^2, = Voltage =  11.1009568038076 kV, Annual Cost =  644240.185759920 EUR\n",
      "Cross section  95  mm^2, = Voltage =  10.0265584749788 kV, Annual Cost =  659115.455949108 EUR\n",
      "Cross section  120  mm^2, = Voltage =  9.27540063677662 kV, Annual Cost =  687566.826744618 EUR\n",
      "Cross section  150  mm^2, = Voltage =  8.61051920458945 kV, Annual Cost =  731641.806592757 EUR\n",
      "Cross section  185  mm^2, = Voltage =  8.02914282325610 kV, Annual Cost =  791223.998576757 EUR\n",
      "Cross section  240  mm^2, = Voltage =  7.36189036412286 kV, Annual Cost =  895199.395293160 EUR\n",
      "Cross section  300  mm^2, = Voltage =  6.83417362167884 kV, Annual Cost =  1017035.29211051 EUR\n",
      "Cross section  400  mm^2, = Voltage =  6.20925881147141 kV, Annual Cost =  1230788.87008180 EUR\n",
      "Cross section  500  mm^2, = Voltage =  5.76416527286749 kV, Annual Cost =  1452094.94146043 EUR\n"
     ]
    }
   ],
   "source": [
    "from sympy import *\n",
    "spResistivity = 2.86*10**(-2) #convert to mm^2/m\n",
    "kA = 240\n",
    "kV = 2800\n",
    "k = 0.1\n",
    "alpha = 10\n",
    "hr = 3000\n",
    "Sr = 10**4/0.8\n",
    "Io = 1000 #assume invariable investment cost is equal to 1000 EUR\n",
    "A = [10,16,25,35,50,70,95,120,150,185,240,300,400,500]\n",
    "V = symbols(\"V\")\n",
    "\n",
    "for a in A:\n",
    "    dCostbydA = alpha*kV - 2*k*hr*(spResistivity/a)*(Sr**2/V**3)\n",
    "    v = solve(Eq(dCostbydA,0))[0]\n",
    "\n",
    "    AnCost = alpha*(Io+kV*v+kA*a) + k*hr*(spResistivity/a)*(Sr**2/v**2)\n",
    "    print (\"Cross section \", a, \" mm^2, = Voltage = \",v, \"kV, Annual Cost = \", AnCost, \"EUR\")\n"
   ]
  },
  {
   "cell_type": "code",
   "execution_count": 11,
   "metadata": {},
   "outputs": [
    {
     "name": "stdout",
     "output_type": "stream",
     "text": [
      "Cross section  70  mm^2, = Voltage =  11 kV, Annual Cost =  644279.2207792208 EUR\n"
     ]
    }
   ],
   "source": [
    "from sympy import *\n",
    "spResistivity = 2.86*10**(-2) #convert to mm^2/m\n",
    "kA = 240\n",
    "kV = 2800\n",
    "k = 0.1\n",
    "alpha = 10\n",
    "hr = 3000\n",
    "Sr = 10**4/0.8\n",
    "Io = 1000 #assume invariable investment cost is equal to 1000 EUR\n",
    "A = 70\n",
    "V = 11\n",
    "\n",
    "\n",
    "AnCost = alpha*(Io+kV*V+kA*A) + k*hr*(spResistivity/A)*(Sr**2/V**2)\n",
    "print (\"Cross section \", A, \" mm^2, = Voltage = \",V, \"kV, Annual Cost = \", AnCost, \"EUR\")\n"
   ]
  }
 ],
 "metadata": {
  "kernelspec": {
   "display_name": "Python 3.9.13 ('base')",
   "language": "python",
   "name": "python3"
  },
  "language_info": {
   "codemirror_mode": {
    "name": "ipython",
    "version": 3
   },
   "file_extension": ".py",
   "mimetype": "text/x-python",
   "name": "python",
   "nbconvert_exporter": "python",
   "pygments_lexer": "ipython3",
   "version": "3.9.13"
  },
  "orig_nbformat": 4,
  "vscode": {
   "interpreter": {
    "hash": "8d63a1158c86434e1275708ae30ff2afc47482b120c0cf0806717c600d2c7238"
   }
  }
 },
 "nbformat": 4,
 "nbformat_minor": 2
}
