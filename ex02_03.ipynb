{
 "cells": [
  {
   "cell_type": "markdown",
   "metadata": {},
   "source": [
    "Exercise 2.3"
   ]
  },
  {
   "cell_type": "code",
   "execution_count": 12,
   "metadata": {},
   "outputs": [],
   "source": [
    "import pandapower as pp #import pandapower\n",
    "\n",
    "net = pp.create_empty_network(sn_mva=100) #create an empty network with 100MVA base power"
   ]
  },
  {
   "cell_type": "code",
   "execution_count": 13,
   "metadata": {},
   "outputs": [],
   "source": [
    "\"\"\"Create the buses\"\"\"\n",
    "bus0 = pp.create_bus(net, name ='0', vn_kv=22 ,type = \"n\")\n",
    "bus1 = pp.create_bus(net, name ='1', vn_kv=22)\n",
    "bus2 = pp.create_bus(net, name ='2', vn_kv=11)\n",
    "bus3 = pp.create_bus(net, name ='3', vn_kv=220)\n",
    "bus4 = pp.create_bus(net, name ='4', vn_kv=220)\n",
    "bus5 = pp.create_bus(net, name ='5', vn_kv=110)\n",
    "bus6 = pp.create_bus(net, name ='6', vn_kv=110)"
   ]
  },
  {
   "cell_type": "code",
   "execution_count": 14,
   "metadata": {},
   "outputs": [
    {
     "data": {
      "text/html": [
       "<div>\n",
       "<style scoped>\n",
       "    .dataframe tbody tr th:only-of-type {\n",
       "        vertical-align: middle;\n",
       "    }\n",
       "\n",
       "    .dataframe tbody tr th {\n",
       "        vertical-align: top;\n",
       "    }\n",
       "\n",
       "    .dataframe thead th {\n",
       "        text-align: right;\n",
       "    }\n",
       "</style>\n",
       "<table border=\"1\" class=\"dataframe\">\n",
       "  <thead>\n",
       "    <tr style=\"text-align: right;\">\n",
       "      <th></th>\n",
       "      <th>name</th>\n",
       "      <th>vn_kv</th>\n",
       "      <th>type</th>\n",
       "      <th>zone</th>\n",
       "      <th>in_service</th>\n",
       "    </tr>\n",
       "  </thead>\n",
       "  <tbody>\n",
       "    <tr>\n",
       "      <th>0</th>\n",
       "      <td>0</td>\n",
       "      <td>22.0</td>\n",
       "      <td>n</td>\n",
       "      <td>None</td>\n",
       "      <td>True</td>\n",
       "    </tr>\n",
       "    <tr>\n",
       "      <th>1</th>\n",
       "      <td>1</td>\n",
       "      <td>22.0</td>\n",
       "      <td>b</td>\n",
       "      <td>None</td>\n",
       "      <td>True</td>\n",
       "    </tr>\n",
       "    <tr>\n",
       "      <th>2</th>\n",
       "      <td>2</td>\n",
       "      <td>11.0</td>\n",
       "      <td>b</td>\n",
       "      <td>None</td>\n",
       "      <td>True</td>\n",
       "    </tr>\n",
       "    <tr>\n",
       "      <th>3</th>\n",
       "      <td>3</td>\n",
       "      <td>220.0</td>\n",
       "      <td>b</td>\n",
       "      <td>None</td>\n",
       "      <td>True</td>\n",
       "    </tr>\n",
       "    <tr>\n",
       "      <th>4</th>\n",
       "      <td>4</td>\n",
       "      <td>220.0</td>\n",
       "      <td>b</td>\n",
       "      <td>None</td>\n",
       "      <td>True</td>\n",
       "    </tr>\n",
       "    <tr>\n",
       "      <th>5</th>\n",
       "      <td>5</td>\n",
       "      <td>110.0</td>\n",
       "      <td>b</td>\n",
       "      <td>None</td>\n",
       "      <td>True</td>\n",
       "    </tr>\n",
       "    <tr>\n",
       "      <th>6</th>\n",
       "      <td>6</td>\n",
       "      <td>110.0</td>\n",
       "      <td>b</td>\n",
       "      <td>None</td>\n",
       "      <td>True</td>\n",
       "    </tr>\n",
       "  </tbody>\n",
       "</table>\n",
       "</div>"
      ],
      "text/plain": [
       "  name  vn_kv type  zone  in_service\n",
       "0    0   22.0    n  None        True\n",
       "1    1   22.0    b  None        True\n",
       "2    2   11.0    b  None        True\n",
       "3    3  220.0    b  None        True\n",
       "4    4  220.0    b  None        True\n",
       "5    5  110.0    b  None        True\n",
       "6    6  110.0    b  None        True"
      ]
     },
     "execution_count": 14,
     "metadata": {},
     "output_type": "execute_result"
    }
   ],
   "source": [
    "net.bus"
   ]
  },
  {
   "cell_type": "code",
   "execution_count": 15,
   "metadata": {},
   "outputs": [
    {
     "data": {
      "text/html": [
       "<div>\n",
       "<style scoped>\n",
       "    .dataframe tbody tr th:only-of-type {\n",
       "        vertical-align: middle;\n",
       "    }\n",
       "\n",
       "    .dataframe tbody tr th {\n",
       "        vertical-align: top;\n",
       "    }\n",
       "\n",
       "    .dataframe thead th {\n",
       "        text-align: right;\n",
       "    }\n",
       "</style>\n",
       "<table border=\"1\" class=\"dataframe\">\n",
       "  <thead>\n",
       "    <tr style=\"text-align: right;\">\n",
       "      <th></th>\n",
       "      <th>name</th>\n",
       "      <th>bus</th>\n",
       "      <th>vm_pu</th>\n",
       "      <th>va_degree</th>\n",
       "      <th>slack_weight</th>\n",
       "      <th>in_service</th>\n",
       "    </tr>\n",
       "  </thead>\n",
       "  <tbody>\n",
       "    <tr>\n",
       "      <th>0</th>\n",
       "      <td>None</td>\n",
       "      <td>0</td>\n",
       "      <td>1.0</td>\n",
       "      <td>0.0</td>\n",
       "      <td>1.0</td>\n",
       "      <td>True</td>\n",
       "    </tr>\n",
       "  </tbody>\n",
       "</table>\n",
       "</div>"
      ],
      "text/plain": [
       "   name  bus  vm_pu  va_degree  slack_weight  in_service\n",
       "0  None    0    1.0        0.0           1.0        True"
      ]
     },
     "execution_count": 15,
     "metadata": {},
     "output_type": "execute_result"
    }
   ],
   "source": [
    "pp.create_ext_grid(net, bus0, vm_pu=1) # Create an external grid connection\n",
    "net.ext_grid #show external grid table"
   ]
  },
  {
   "cell_type": "code",
   "execution_count": 16,
   "metadata": {},
   "outputs": [
    {
     "data": {
      "text/plain": [
       "0"
      ]
     },
     "execution_count": 16,
     "metadata": {},
     "output_type": "execute_result"
    }
   ],
   "source": [
    "pp.create_load_from_cosphi(net, bus=2, sn_mva=57, cos_phi=0.6, scaling=1.11, mode=\"underexcited\", const_z_percent = 100)"
   ]
  },
  {
   "cell_type": "code",
   "execution_count": 17,
   "metadata": {},
   "outputs": [
    {
     "data": {
      "text/plain": [
       "0"
      ]
     },
     "execution_count": 17,
     "metadata": {},
     "output_type": "execute_result"
    }
   ],
   "source": [
    "pp.create_impedance(net, from_bus=0, to_bus=1, rft_pu =0, xft_pu=0.18, sn_mva=90, scaling = 1.11)"
   ]
  },
  {
   "cell_type": "code",
   "execution_count": 18,
   "metadata": {},
   "outputs": [
    {
     "data": {
      "text/plain": [
       "3"
      ]
     },
     "execution_count": 18,
     "metadata": {},
     "output_type": "execute_result"
    }
   ],
   "source": [
    "pp.create_transformer_from_parameters(net, hv_bus=3, lv_bus=1,sn_mva=50, vn_hv_kv=220, vn_lv_kv=22, vkr_percent=0, vk_percent=10, pfe_kw=0,i0_percent=0, name=\"T1\")\n",
    "pp.create_transformer_from_parameters(net, hv_bus=4, lv_bus=2,sn_mva=40, vn_hv_kv=220, vn_lv_kv=11, vkr_percent=0, vk_percent=6, pfe_kw=0,i0_percent=0, name=\"T2\")\n",
    "pp.create_transformer_from_parameters(net, hv_bus=5, lv_bus=1,sn_mva=40, vn_hv_kv=110, vn_lv_kv=22, vkr_percent=0, vk_percent=6.4, pfe_kw=0,i0_percent=0, name=\"T3\")\n",
    "pp.create_transformer_from_parameters(net, hv_bus=6, lv_bus=2,sn_mva=40, vn_hv_kv=110, vn_lv_kv=11, vkr_percent=0, vk_percent=8, pfe_kw=0,i0_percent=0, name=\"T4\")"
   ]
  },
  {
   "cell_type": "code",
   "execution_count": 19,
   "metadata": {},
   "outputs": [
    {
     "data": {
      "text/plain": [
       "1"
      ]
     },
     "execution_count": 19,
     "metadata": {},
     "output_type": "execute_result"
    }
   ],
   "source": [
    "pp.create_line_from_parameters(net, from_bus=3,to_bus=4, length_km=1, r_ohm_per_km=0, x_ohm_per_km=48.4, c_nf_per_km=0, max_i_ka=0.454)\n",
    "pp.create_line_from_parameters(net, from_bus=5,to_bus=6, length_km=1, r_ohm_per_km=0, x_ohm_per_km=65.43, c_nf_per_km=0, max_i_ka=0.909)"
   ]
  },
  {
   "cell_type": "code",
   "execution_count": 20,
   "metadata": {},
   "outputs": [],
   "source": [
    "pp.runpp(net, max_iteration=100)"
   ]
  },
  {
   "cell_type": "code",
   "execution_count": 21,
   "metadata": {},
   "outputs": [
    {
     "data": {
      "text/html": [
       "<div>\n",
       "<style scoped>\n",
       "    .dataframe tbody tr th:only-of-type {\n",
       "        vertical-align: middle;\n",
       "    }\n",
       "\n",
       "    .dataframe tbody tr th {\n",
       "        vertical-align: top;\n",
       "    }\n",
       "\n",
       "    .dataframe thead th {\n",
       "        text-align: right;\n",
       "    }\n",
       "</style>\n",
       "<table border=\"1\" class=\"dataframe\">\n",
       "  <thead>\n",
       "    <tr style=\"text-align: right;\">\n",
       "      <th></th>\n",
       "      <th>vm_pu</th>\n",
       "      <th>va_degree</th>\n",
       "      <th>p_mw</th>\n",
       "      <th>q_mvar</th>\n",
       "    </tr>\n",
       "  </thead>\n",
       "  <tbody>\n",
       "    <tr>\n",
       "      <th>0</th>\n",
       "      <td>1.000000</td>\n",
       "      <td>0.000000</td>\n",
       "      <td>-23.632400</td>\n",
       "      <td>-43.972109</td>\n",
       "    </tr>\n",
       "    <tr>\n",
       "      <th>1</th>\n",
       "      <td>0.913280</td>\n",
       "      <td>-2.966544</td>\n",
       "      <td>0.000000</td>\n",
       "      <td>0.000000</td>\n",
       "    </tr>\n",
       "    <tr>\n",
       "      <th>2</th>\n",
       "      <td>0.789004</td>\n",
       "      <td>-8.614505</td>\n",
       "      <td>23.632399</td>\n",
       "      <td>31.509866</td>\n",
       "    </tr>\n",
       "    <tr>\n",
       "      <th>3</th>\n",
       "      <td>0.857039</td>\n",
       "      <td>-5.274363</td>\n",
       "      <td>0.000000</td>\n",
       "      <td>0.000000</td>\n",
       "    </tr>\n",
       "    <tr>\n",
       "      <th>4</th>\n",
       "      <td>0.829493</td>\n",
       "      <td>-6.544590</td>\n",
       "      <td>0.000000</td>\n",
       "      <td>0.000000</td>\n",
       "    </tr>\n",
       "    <tr>\n",
       "      <th>5</th>\n",
       "      <td>0.890631</td>\n",
       "      <td>-3.853916</td>\n",
       "      <td>0.000000</td>\n",
       "      <td>0.000000</td>\n",
       "    </tr>\n",
       "    <tr>\n",
       "      <th>6</th>\n",
       "      <td>0.815858</td>\n",
       "      <td>-7.212823</td>\n",
       "      <td>0.000000</td>\n",
       "      <td>0.000000</td>\n",
       "    </tr>\n",
       "  </tbody>\n",
       "</table>\n",
       "</div>"
      ],
      "text/plain": [
       "      vm_pu  va_degree       p_mw     q_mvar\n",
       "0  1.000000   0.000000 -23.632400 -43.972109\n",
       "1  0.913280  -2.966544   0.000000   0.000000\n",
       "2  0.789004  -8.614505  23.632399  31.509866\n",
       "3  0.857039  -5.274363   0.000000   0.000000\n",
       "4  0.829493  -6.544590   0.000000   0.000000\n",
       "5  0.890631  -3.853916   0.000000   0.000000\n",
       "6  0.815858  -7.212823   0.000000   0.000000"
      ]
     },
     "execution_count": 21,
     "metadata": {},
     "output_type": "execute_result"
    }
   ],
   "source": [
    "net.res_bus"
   ]
  },
  {
   "cell_type": "code",
   "execution_count": 22,
   "metadata": {},
   "outputs": [
    {
     "data": {
      "text/html": [
       "<div>\n",
       "<style scoped>\n",
       "    .dataframe tbody tr th:only-of-type {\n",
       "        vertical-align: middle;\n",
       "    }\n",
       "\n",
       "    .dataframe tbody tr th {\n",
       "        vertical-align: top;\n",
       "    }\n",
       "\n",
       "    .dataframe thead th {\n",
       "        text-align: right;\n",
       "    }\n",
       "</style>\n",
       "<table border=\"1\" class=\"dataframe\">\n",
       "  <thead>\n",
       "    <tr style=\"text-align: right;\">\n",
       "      <th></th>\n",
       "      <th>p_mw</th>\n",
       "      <th>q_mvar</th>\n",
       "    </tr>\n",
       "  </thead>\n",
       "  <tbody>\n",
       "    <tr>\n",
       "      <th>0</th>\n",
       "      <td>23.632399</td>\n",
       "      <td>31.509866</td>\n",
       "    </tr>\n",
       "  </tbody>\n",
       "</table>\n",
       "</div>"
      ],
      "text/plain": [
       "        p_mw     q_mvar\n",
       "0  23.632399  31.509866"
      ]
     },
     "execution_count": 22,
     "metadata": {},
     "output_type": "execute_result"
    }
   ],
   "source": [
    "net.res_load"
   ]
  },
  {
   "cell_type": "code",
   "execution_count": 23,
   "metadata": {},
   "outputs": [
    {
     "data": {
      "text/html": [
       "<div>\n",
       "<style scoped>\n",
       "    .dataframe tbody tr th:only-of-type {\n",
       "        vertical-align: middle;\n",
       "    }\n",
       "\n",
       "    .dataframe tbody tr th {\n",
       "        vertical-align: top;\n",
       "    }\n",
       "\n",
       "    .dataframe thead th {\n",
       "        text-align: right;\n",
       "    }\n",
       "</style>\n",
       "<table border=\"1\" class=\"dataframe\">\n",
       "  <thead>\n",
       "    <tr style=\"text-align: right;\">\n",
       "      <th></th>\n",
       "      <th>p_from_mw</th>\n",
       "      <th>q_from_mvar</th>\n",
       "      <th>p_to_mw</th>\n",
       "      <th>q_to_mvar</th>\n",
       "      <th>pl_mw</th>\n",
       "      <th>ql_mvar</th>\n",
       "      <th>i_from_ka</th>\n",
       "      <th>i_to_ka</th>\n",
       "      <th>i_ka</th>\n",
       "      <th>vm_from_pu</th>\n",
       "      <th>va_from_degree</th>\n",
       "      <th>vm_to_pu</th>\n",
       "      <th>va_to_degree</th>\n",
       "      <th>loading_percent</th>\n",
       "    </tr>\n",
       "  </thead>\n",
       "  <tbody>\n",
       "    <tr>\n",
       "      <th>0</th>\n",
       "      <td>15.759271</td>\n",
       "      <td>23.782816</td>\n",
       "      <td>-15.759271</td>\n",
       "      <td>-22.674634</td>\n",
       "      <td>-1.776357e-15</td>\n",
       "      <td>1.108182</td>\n",
       "      <td>0.087362</td>\n",
       "      <td>0.087362</td>\n",
       "      <td>0.087362</td>\n",
       "      <td>0.857039</td>\n",
       "      <td>-5.274363</td>\n",
       "      <td>0.829493</td>\n",
       "      <td>-6.544590</td>\n",
       "      <td>19.242715</td>\n",
       "    </tr>\n",
       "    <tr>\n",
       "      <th>1</th>\n",
       "      <td>7.873129</td>\n",
       "      <td>12.546314</td>\n",
       "      <td>-7.873129</td>\n",
       "      <td>-11.050681</td>\n",
       "      <td>0.000000e+00</td>\n",
       "      <td>1.495633</td>\n",
       "      <td>0.087290</td>\n",
       "      <td>0.087290</td>\n",
       "      <td>0.087290</td>\n",
       "      <td>0.890631</td>\n",
       "      <td>-3.853916</td>\n",
       "      <td>0.815858</td>\n",
       "      <td>-7.212823</td>\n",
       "      <td>9.602837</td>\n",
       "    </tr>\n",
       "  </tbody>\n",
       "</table>\n",
       "</div>"
      ],
      "text/plain": [
       "   p_from_mw  q_from_mvar    p_to_mw  q_to_mvar         pl_mw   ql_mvar  \\\n",
       "0  15.759271    23.782816 -15.759271 -22.674634 -1.776357e-15  1.108182   \n",
       "1   7.873129    12.546314  -7.873129 -11.050681  0.000000e+00  1.495633   \n",
       "\n",
       "   i_from_ka   i_to_ka      i_ka  vm_from_pu  va_from_degree  vm_to_pu  \\\n",
       "0   0.087362  0.087362  0.087362    0.857039       -5.274363  0.829493   \n",
       "1   0.087290  0.087290  0.087290    0.890631       -3.853916  0.815858   \n",
       "\n",
       "   va_to_degree  loading_percent  \n",
       "0     -6.544590        19.242715  \n",
       "1     -7.212823         9.602837  "
      ]
     },
     "execution_count": 23,
     "metadata": {},
     "output_type": "execute_result"
    }
   ],
   "source": [
    "net.res_line"
   ]
  }
 ],
 "metadata": {
  "kernelspec": {
   "display_name": "Python 3.9.13 ('base')",
   "language": "python",
   "name": "python3"
  },
  "language_info": {
   "codemirror_mode": {
    "name": "ipython",
    "version": 3
   },
   "file_extension": ".py",
   "mimetype": "text/x-python",
   "name": "python",
   "nbconvert_exporter": "python",
   "pygments_lexer": "ipython3",
   "version": "3.9.13"
  },
  "orig_nbformat": 4,
  "vscode": {
   "interpreter": {
    "hash": "8d63a1158c86434e1275708ae30ff2afc47482b120c0cf0806717c600d2c7238"
   }
  }
 },
 "nbformat": 4,
 "nbformat_minor": 2
}
